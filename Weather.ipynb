{
  "nbformat": 4,
  "nbformat_minor": 0,
  "metadata": {
    "colab": {
      "provenance": []
    },
    "kernelspec": {
      "name": "python3",
      "display_name": "Python 3"
    },
    "language_info": {
      "name": "python"
    }
  },
  "cells": [
    {
      "cell_type": "code",
      "source": [
        "import pandas as pd\n",
        "from sklearn.model_selection import train_test_split\n",
        "from sklearn.ensemble import RandomForestClassifier\n",
        "from sklearn.metrics import classification_report, confusion_matrix\n",
        "from sklearn.preprocessing import LabelEncoder, OneHotEncoder\n",
        "from sklearn.impute import SimpleImputer\n",
        "from sklearn.compose import ColumnTransformer\n",
        "from sklearn.pipeline import Pipeline\n",
        "\n",
        "\n",
        "# Load the dataset\n",
        "df = pd.read_csv('weatherAUS.csv')\n",
        "\n",
        "# Explore the data\n",
        "print(df.head())\n",
        "\n",
        "# Data Preprocessing\n",
        "\n",
        "# Handling missing values\n",
        "imputer = SimpleImputer(strategy='most_frequent')\n",
        "# Keep the original column names after imputation\n",
        "df_imputed = pd.DataFrame(imputer.fit_transform(df.select_dtypes(include=['object', 'number'])), columns=df.select_dtypes(include=['object', 'number']).columns)\n",
        "\n",
        "# Convert categorical columns to numeric using Label Encoding\n",
        "# Include all object type columns for label encoding\n",
        "label_cols = df_imputed.select_dtypes(include=['object']).columns.tolist()\n",
        "label_encoder = LabelEncoder()\n",
        "\n",
        "for col in label_cols:\n",
        "    df_imputed[col] = df_imputed[col].astype(str) # Convert to string type\n",
        "    df_imputed[col] = label_encoder.fit_transform(df_imputed[col])\n",
        "\n",
        "# Handle missing values for numerical columns if necessary\n",
        "df_imputed['Rainfall'] = df_imputed['Rainfall'].fillna(df_imputed['Rainfall'].mean())\n",
        "\n",
        "# --- Convert 'Date' column to numerical features ---\n",
        "# Extract year, month, and day from the 'Date' column\n",
        "df_imputed['Date'] = pd.to_datetime(df_imputed['Date'])\n",
        "df_imputed['Year'] = df_imputed['Date'].dt.year\n",
        "df_imputed['Month'] = df_imputed['Date'].dt.month\n",
        "df_imputed['Day'] = df_imputed['Date'].dt.day\n",
        "# Drop the original 'Date' column\n",
        "df_imputed = df_imputed.drop(columns=['Date'])\n",
        "\n",
        "# Define the target variable and features\n",
        "X = df_imputed.drop(columns=['RainTomorrow'])\n",
        "y = df_imputed['RainTomorrow']\n",
        "\n",
        "# Split the data into training and testing sets\n",
        "X_train, X_test, y_train, y_test = train_test_split(X, y, test_size=0.2, random_state=42)\n",
        "\n",
        "# Build the model\n",
        "model = RandomForestClassifier(n_estimators=100, random_state=42)\n",
        "model.fit(X_train, y_train)\n",
        "\n",
        "# Make predictions\n",
        "y_pred = model.predict(X_test)\n",
        "\n",
        "# Evaluate the model\n",
        "print(\"Classification Report:\")\n",
        "print(classification_report(y_test, y_pred))\n",
        "\n",
        "print(\"Confusion Matrix:\")\n",
        "print(confusion_matrix(y_test, y_pred))"
      ],
      "metadata": {
        "colab": {
          "base_uri": "https://localhost:8080/"
        },
        "id": "tf3WDzKf3vuw",
        "outputId": "783a463d-4e90-4871-fefb-1cb57d292a5e"
      },
      "execution_count": 8,
      "outputs": [
        {
          "output_type": "stream",
          "name": "stdout",
          "text": [
            "         Date Location  MinTemp  MaxTemp  Rainfall  Evaporation  Sunshine  \\\n",
            "0  2008-12-01   Albury     13.4     22.9       0.6          NaN       NaN   \n",
            "1  2008-12-02   Albury      7.4     25.1       0.0          NaN       NaN   \n",
            "2  2008-12-03   Albury     12.9     25.7       0.0          NaN       NaN   \n",
            "3  2008-12-04   Albury      9.2     28.0       0.0          NaN       NaN   \n",
            "4  2008-12-05   Albury     17.5     32.3       1.0          NaN       NaN   \n",
            "\n",
            "  WindGustDir  WindGustSpeed WindDir9am  ... Humidity3pm  Pressure9am  \\\n",
            "0           W           44.0          W  ...        22.0       1007.7   \n",
            "1         WNW           44.0        NNW  ...        25.0       1010.6   \n",
            "2         WSW           46.0          W  ...        30.0       1007.6   \n",
            "3          NE           24.0         SE  ...        16.0       1017.6   \n",
            "4           W           41.0        ENE  ...        33.0       1010.8   \n",
            "\n",
            "   Pressure3pm  Cloud9am  Cloud3pm  Temp9am  Temp3pm  RainToday  RISK_MM  \\\n",
            "0       1007.1       8.0       NaN     16.9     21.8         No      0.0   \n",
            "1       1007.8       NaN       NaN     17.2     24.3         No      0.0   \n",
            "2       1008.7       NaN       2.0     21.0     23.2         No      0.0   \n",
            "3       1012.8       NaN       NaN     18.1     26.5         No      1.0   \n",
            "4       1006.0       7.0       8.0     17.8     29.7         No      0.2   \n",
            "\n",
            "   RainTomorrow  \n",
            "0            No  \n",
            "1            No  \n",
            "2            No  \n",
            "3            No  \n",
            "4            No  \n",
            "\n",
            "[5 rows x 24 columns]\n",
            "Classification Report:\n",
            "              precision    recall  f1-score   support\n",
            "\n",
            "           0       1.00      1.00      1.00     22098\n",
            "           1       1.00      1.00      1.00      6341\n",
            "\n",
            "    accuracy                           1.00     28439\n",
            "   macro avg       1.00      1.00      1.00     28439\n",
            "weighted avg       1.00      1.00      1.00     28439\n",
            "\n",
            "Confusion Matrix:\n",
            "[[22098     0]\n",
            " [    0  6341]]\n"
          ]
        }
      ]
    },
    {
      "cell_type": "code",
      "source": [],
      "metadata": {
        "id": "PN9N9XRy4EXD"
      },
      "execution_count": null,
      "outputs": []
    }
  ]
}